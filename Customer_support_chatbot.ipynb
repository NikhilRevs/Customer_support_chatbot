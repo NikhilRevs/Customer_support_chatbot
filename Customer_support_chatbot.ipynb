{
 "cells": [
  {
   "cell_type": "code",
   "execution_count": null,
   "id": "87714f8a-7db3-42e4-9530-4b34715d1655",
   "metadata": {},
   "outputs": [
    {
     "name": "stdout",
     "output_type": "stream",
     "text": [
      "Successfully installed anthropic-0.60.0 argcomplete-3.6.2 boto3-1.39.15 botocore-1.39.15 cachetools-5.5.2 click-8.2.1 cohere-5.16.1 eval-type-backport-0.2.2 fastavro-1.11.1 filelock-3.18.0 fsspec-2025.7.0 google-auth-2.40.3 griffe-1.9.0 groq-0.30.0 hf-xet-1.1.5 httpx-sse-0.4.0 huggingface-hub-0.34.3 jiter-0.10.0 jmespath-1.0.1 logfire-api-4.0.0 markdown-it-py-3.0.0 mcp-1.12.2 mdurl-0.1.2 mistralai-1.9.3 numpy-2.3.2 openai-1.97.1 opentelemetry-api-1.36.0 pandas-2.2.3 pyasn1-0.6.1 pyasn1-modules-0.4.2 pydantic-ai-0.1.3 pydantic-ai-slim-0.1.3 pydantic-evals-0.1.3 pydantic-graph-0.1.3 pydantic-settings-2.10.1 python-dotenv-1.1.1 python-multipart-0.0.20 rich-14.1.0 rsa-4.9.1 s3transfer-0.13.1 sse-starlette-3.0.2 starlette-0.47.2 tokenizers-0.21.4 types-requests-2.32.4.20250611 typing-inspection-0.4.1 tzdata-2025.2 uvicorn-0.35.0\n"
     ]
    }
   ],
   "source": [
    "!pip install pydantic-ai==0.1.3 pandas==2.2.3 | tail -n1"
   ]
  },
  {
   "cell_type": "code",
   "execution_count": 1,
   "id": "701642d7-8044-4780-8086-16f70a32f6d4",
   "metadata": {},
   "outputs": [],
   "source": [
    "import os\n",
    "import json\n",
    "import pandas as pd\n",
    "from pydantic import BaseModel, validator, Field, field_validator\n",
    "from openai import OpenAI\n",
    "from pydantic_ai import Agent, RunContext\n",
    "import nest_asyncio\n",
    "from dataclasses import dataclass  "
   ]
  },
  {
   "cell_type": "code",
   "execution_count": 6,
   "id": "d3928111-70e5-4c84-bf12-35659e5a8b04",
   "metadata": {},
   "outputs": [],
   "source": [
    "path = \"https://cf-courses-data.s3.us.cloud-object-storage.appdomain.cloud/IJIikY8I-Q79KdIA5WtYIw/customer-support-tickets.csv\"\n",
    "df = pd.read_csv(path)"
   ]
  },
  {
   "cell_type": "code",
   "execution_count": 7,
   "id": "025606b3-7f90-4c6f-959d-14f215719e0d",
   "metadata": {},
   "outputs": [
    {
     "data": {
      "text/html": [
       "<div>\n",
       "<style scoped>\n",
       "    .dataframe tbody tr th:only-of-type {\n",
       "        vertical-align: middle;\n",
       "    }\n",
       "\n",
       "    .dataframe tbody tr th {\n",
       "        vertical-align: top;\n",
       "    }\n",
       "\n",
       "    .dataframe thead th {\n",
       "        text-align: right;\n",
       "    }\n",
       "</style>\n",
       "<table border=\"1\" class=\"dataframe\">\n",
       "  <thead>\n",
       "    <tr style=\"text-align: right;\">\n",
       "      <th></th>\n",
       "      <th>Ticket ID</th>\n",
       "      <th>Customer Name</th>\n",
       "      <th>Customer Email</th>\n",
       "      <th>Customer Age</th>\n",
       "      <th>Customer Gender</th>\n",
       "      <th>Product Purchased</th>\n",
       "      <th>Date of Purchase</th>\n",
       "      <th>Ticket Type</th>\n",
       "      <th>Ticket Subject</th>\n",
       "      <th>Ticket Description</th>\n",
       "      <th>Ticket Status</th>\n",
       "      <th>Resolution</th>\n",
       "      <th>Ticket Priority</th>\n",
       "      <th>Ticket Channel</th>\n",
       "      <th>First Response Time</th>\n",
       "      <th>Time to Resolution</th>\n",
       "      <th>Customer Satisfaction Rating</th>\n",
       "    </tr>\n",
       "  </thead>\n",
       "  <tbody>\n",
       "    <tr>\n",
       "      <th>0</th>\n",
       "      <td>1</td>\n",
       "      <td>Marisa Obrien</td>\n",
       "      <td>carrollallison@example.com</td>\n",
       "      <td>32</td>\n",
       "      <td>Other</td>\n",
       "      <td>GoPro Hero</td>\n",
       "      <td>2021-03-22</td>\n",
       "      <td>Technical issue</td>\n",
       "      <td>Product setup</td>\n",
       "      <td>I'm having an issue with the {product_purchase...</td>\n",
       "      <td>Pending Customer Response</td>\n",
       "      <td>NaN</td>\n",
       "      <td>Critical</td>\n",
       "      <td>Social media</td>\n",
       "      <td>2023-06-01 12:15:36</td>\n",
       "      <td>NaN</td>\n",
       "      <td>NaN</td>\n",
       "    </tr>\n",
       "    <tr>\n",
       "      <th>1</th>\n",
       "      <td>2</td>\n",
       "      <td>Jessica Rios</td>\n",
       "      <td>clarkeashley@example.com</td>\n",
       "      <td>42</td>\n",
       "      <td>Female</td>\n",
       "      <td>LG Smart TV</td>\n",
       "      <td>2021-05-22</td>\n",
       "      <td>Technical issue</td>\n",
       "      <td>Peripheral compatibility</td>\n",
       "      <td>I'm having an issue with the {product_purchase...</td>\n",
       "      <td>Pending Customer Response</td>\n",
       "      <td>NaN</td>\n",
       "      <td>Critical</td>\n",
       "      <td>Chat</td>\n",
       "      <td>2023-06-01 16:45:38</td>\n",
       "      <td>NaN</td>\n",
       "      <td>NaN</td>\n",
       "    </tr>\n",
       "    <tr>\n",
       "      <th>2</th>\n",
       "      <td>3</td>\n",
       "      <td>Christopher Robbins</td>\n",
       "      <td>gonzalestracy@example.com</td>\n",
       "      <td>48</td>\n",
       "      <td>Other</td>\n",
       "      <td>Dell XPS</td>\n",
       "      <td>2020-07-14</td>\n",
       "      <td>Technical issue</td>\n",
       "      <td>Network problem</td>\n",
       "      <td>I'm facing a problem with my {product_purchase...</td>\n",
       "      <td>Closed</td>\n",
       "      <td>Case maybe show recently my computer follow.</td>\n",
       "      <td>Low</td>\n",
       "      <td>Social media</td>\n",
       "      <td>2023-06-01 11:14:38</td>\n",
       "      <td>2023-06-01 18:05:38</td>\n",
       "      <td>3.0</td>\n",
       "    </tr>\n",
       "    <tr>\n",
       "      <th>3</th>\n",
       "      <td>4</td>\n",
       "      <td>Christina Dillon</td>\n",
       "      <td>bradleyolson@example.org</td>\n",
       "      <td>27</td>\n",
       "      <td>Female</td>\n",
       "      <td>Microsoft Office</td>\n",
       "      <td>2020-11-13</td>\n",
       "      <td>Billing inquiry</td>\n",
       "      <td>Account access</td>\n",
       "      <td>I'm having an issue with the {product_purchase...</td>\n",
       "      <td>Closed</td>\n",
       "      <td>Try capital clearly never color toward story.</td>\n",
       "      <td>Low</td>\n",
       "      <td>Social media</td>\n",
       "      <td>2023-06-01 07:29:40</td>\n",
       "      <td>2023-06-01 01:57:40</td>\n",
       "      <td>3.0</td>\n",
       "    </tr>\n",
       "    <tr>\n",
       "      <th>4</th>\n",
       "      <td>5</td>\n",
       "      <td>Alexander Carroll</td>\n",
       "      <td>bradleymark@example.com</td>\n",
       "      <td>67</td>\n",
       "      <td>Female</td>\n",
       "      <td>Autodesk AutoCAD</td>\n",
       "      <td>2020-02-04</td>\n",
       "      <td>Billing inquiry</td>\n",
       "      <td>Data loss</td>\n",
       "      <td>I'm having an issue with the {product_purchase...</td>\n",
       "      <td>Closed</td>\n",
       "      <td>West decision evidence bit.</td>\n",
       "      <td>Low</td>\n",
       "      <td>Email</td>\n",
       "      <td>2023-06-01 00:12:42</td>\n",
       "      <td>2023-06-01 19:53:42</td>\n",
       "      <td>1.0</td>\n",
       "    </tr>\n",
       "  </tbody>\n",
       "</table>\n",
       "</div>"
      ],
      "text/plain": [
       "   Ticket ID        Customer Name              Customer Email  Customer Age  \\\n",
       "0          1        Marisa Obrien  carrollallison@example.com            32   \n",
       "1          2         Jessica Rios    clarkeashley@example.com            42   \n",
       "2          3  Christopher Robbins   gonzalestracy@example.com            48   \n",
       "3          4     Christina Dillon    bradleyolson@example.org            27   \n",
       "4          5    Alexander Carroll     bradleymark@example.com            67   \n",
       "\n",
       "  Customer Gender Product Purchased Date of Purchase      Ticket Type  \\\n",
       "0           Other        GoPro Hero       2021-03-22  Technical issue   \n",
       "1          Female       LG Smart TV       2021-05-22  Technical issue   \n",
       "2           Other          Dell XPS       2020-07-14  Technical issue   \n",
       "3          Female  Microsoft Office       2020-11-13  Billing inquiry   \n",
       "4          Female  Autodesk AutoCAD       2020-02-04  Billing inquiry   \n",
       "\n",
       "             Ticket Subject  \\\n",
       "0             Product setup   \n",
       "1  Peripheral compatibility   \n",
       "2           Network problem   \n",
       "3            Account access   \n",
       "4                 Data loss   \n",
       "\n",
       "                                  Ticket Description  \\\n",
       "0  I'm having an issue with the {product_purchase...   \n",
       "1  I'm having an issue with the {product_purchase...   \n",
       "2  I'm facing a problem with my {product_purchase...   \n",
       "3  I'm having an issue with the {product_purchase...   \n",
       "4  I'm having an issue with the {product_purchase...   \n",
       "\n",
       "               Ticket Status                                     Resolution  \\\n",
       "0  Pending Customer Response                                            NaN   \n",
       "1  Pending Customer Response                                            NaN   \n",
       "2                     Closed   Case maybe show recently my computer follow.   \n",
       "3                     Closed  Try capital clearly never color toward story.   \n",
       "4                     Closed                    West decision evidence bit.   \n",
       "\n",
       "  Ticket Priority Ticket Channel  First Response Time   Time to Resolution  \\\n",
       "0        Critical   Social media  2023-06-01 12:15:36                  NaN   \n",
       "1        Critical           Chat  2023-06-01 16:45:38                  NaN   \n",
       "2             Low   Social media  2023-06-01 11:14:38  2023-06-01 18:05:38   \n",
       "3             Low   Social media  2023-06-01 07:29:40  2023-06-01 01:57:40   \n",
       "4             Low          Email  2023-06-01 00:12:42  2023-06-01 19:53:42   \n",
       "\n",
       "   Customer Satisfaction Rating  \n",
       "0                           NaN  \n",
       "1                           NaN  \n",
       "2                           3.0  \n",
       "3                           3.0  \n",
       "4                           1.0  "
      ]
     },
     "execution_count": 7,
     "metadata": {},
     "output_type": "execute_result"
    }
   ],
   "source": [
    "df.head(5)"
   ]
  },
  {
   "cell_type": "code",
   "execution_count": 8,
   "id": "2da6c2bc-7797-43cd-b119-08972ee480dd",
   "metadata": {},
   "outputs": [],
   "source": [
    "client = OpenAI()"
   ]
  },
  {
   "cell_type": "code",
   "execution_count": 9,
   "id": "eda2d848-f764-4026-b258-5cfdfdd1e7e6",
   "metadata": {},
   "outputs": [],
   "source": [
    "from pydantic import BaseModel, Field, field_validator\n",
    "\n",
    "# SupportResponse using Pydantic V2\n",
    "\n",
    "class SupportResponse(BaseModel):\n",
    "    category: str = Field(..., description=\"The issue category\")\n",
    "    priority: str = Field(default=\"low\", description=\"Issue priority (low, medium, high)\")\n",
    "    escalate: bool = Field(..., description=\"Should this be escalated to a human?\")\n",
    "    suggested_response: str = Field(..., description=\"A helpful support reply\")\n",
    "\n",
    "    @field_validator(\"priority\", mode=\"before\")\n",
    "    @classmethod\n",
    "    def validate_priority(cls, v):\n",
    "        valid_priorities = {\"low\", \"medium\", \"high\"}\n",
    "        if isinstance(v, str) and v.lower() in valid_priorities:\n",
    "            return v.lower()\n",
    "        return \"low\"  # fallback if invalid\n",
    "\n",
    "    def priority_as_int(self) -> int:\n",
    "        priority_map = {\"low\": 1, \"medium\": 2, \"high\": 3}\n",
    "        return priority_map.get(self.priority, 1)"
   ]
  },
  {
   "cell_type": "code",
   "execution_count": 10,
   "id": "d2bab0fa-aca5-4c97-b9f1-ebee87e0abfa",
   "metadata": {},
   "outputs": [],
   "source": [
    "prompt = \"\"\"\n",
    "User: I forgot my password and can’t login.\n",
    "Response:\n",
    "{\n",
    "  \"category\": \"Authentication\",\n",
    "  \"priority\": \"High\",\n",
    "  \"escalate\": true,\n",
    "  \"suggested_response\": \"You can reset your password from the login page. If that doesn’t work, we'll escalate this issue for manual support.\"\n",
    "}\n",
    "\n",
    "User: Please cancel my account.\n",
    "Response:\n",
    "{\n",
    "  \"category\": \"Subscription\",\n",
    "  \"priority\": \"Medium\",\n",
    "  \"escalate\": false,\n",
    "  \"suggested_response\": \"To cancel your subscription, go to Settings > Billing > Cancel Plan. Contact us if you need help.\"\n",
    "}\n",
    "\"\"\""
   ]
  },
  {
   "cell_type": "code",
   "execution_count": 11,
   "id": "207e9ccc-eb8b-4397-8dd9-4502b15090a3",
   "metadata": {},
   "outputs": [],
   "source": [
    "agent = Agent[SupportResponse](\n",
    "    instructions=f\"\"\"\n",
    "You are a helpful customer support assistant.\n",
    "You can use this CSV file: {df}\n",
    "\n",
    "Your task is to:\n",
    "- Match user input to any ticket using ticket_id, email, or customer_name.\n",
    "- Respond ONLY using the data in the CSV.\n",
    "- If no match is found, respond politely asking the user to check their input.\n",
    "- Output MUST be a valid JSON object in this exact format (no markdown, no prose):\n",
    "\n",
    "{{\n",
    "  \"category\": \"Connectivity\",\n",
    "  \"priority\": \"high\",\n",
    "  \"escalate\": true,\n",
    "  \"suggested_response\": \"Please update your Wi-Fi drivers and restart your router.\"\n",
    "}}\n",
    "\n",
    "Only return the JSON — no extra text or explanation.\n",
    "\"\"\",\n",
    "    model=\"gpt-4.1-nano\",\n",
    "    client=client,\n",
    ")"
   ]
  },
  {
   "cell_type": "code",
   "execution_count": 12,
   "id": "aab45eef-27ed-4e28-b9ab-470bb0290ccc",
   "metadata": {},
   "outputs": [],
   "source": [
    "nest_asyncio.apply()"
   ]
  },
  {
   "cell_type": "code",
   "execution_count": 13,
   "id": "60d59464-fc40-4fda-aaa9-54adf420e12a",
   "metadata": {},
   "outputs": [
    {
     "name": "stdout",
     "output_type": "stream",
     "text": [
      " Customer Support Chatbot — type 'exit' to quit\n",
      "\n"
     ]
    },
    {
     "name": "stdout",
     "output_type": "stream",
     "text": [
      "🧑 You:  Christopher Robbins purchased a Dell XPS. If you need more details, please let us know\n"
     ]
    },
    {
     "name": "stdout",
     "output_type": "stream",
     "text": [
      "\n",
      "AI Response:\n",
      "Category        : Technical issue\n",
      "Priority        : medium\n",
      "Escalate        : No\n",
      "Suggested Reply : Please ensure your Dell XPS is properly connected and updated with the latest drivers. If the issue persists, contact our support team for further assistance.\n",
      "\n"
     ]
    },
    {
     "name": "stdout",
     "output_type": "stream",
     "text": [
      "🧑 You:  My Dell XPS keeps dropping from Wi-Fi every few minutes, which is really frustrating. I’d appreciate some help troubleshooting this issue\n"
     ]
    },
    {
     "name": "stdout",
     "output_type": "stream",
     "text": [
      "\n",
      "AI Response:\n",
      "Category        : Connectivity\n",
      "Priority        : high\n",
      "Escalate        : Yes\n",
      "Suggested Reply : Please update your Wi-Fi drivers and restart your router.\n",
      "\n"
     ]
    },
    {
     "name": "stdout",
     "output_type": "stream",
     "text": [
      "🧑 You:  exit\n"
     ]
    },
    {
     "name": "stdout",
     "output_type": "stream",
     "text": [
      " Exiting chatbot.\n"
     ]
    }
   ],
   "source": [
    "import json\n",
    "from pydantic import ValidationError\n",
    "\n",
    "async def run_chatbot():\n",
    "    print(\" Customer Support Chatbot — type 'exit' to quit\\n\")\n",
    "\n",
    "    while True:\n",
    "        user_input = input(\"🧑 You: \").strip()\n",
    "        if user_input.lower() == \"exit\":\n",
    "            print(\" Exiting chatbot.\")\n",
    "            break\n",
    "\n",
    "        try:\n",
    "            result = await agent.run(user_input)\n",
    "            output = result.output\n",
    "\n",
    "            # Try parsing the result into SupportResponse\n",
    "            if isinstance(output, SupportResponse):\n",
    "                response = output\n",
    "            elif isinstance(output, dict):\n",
    "                response = SupportResponse(**output)\n",
    "            elif isinstance(output, str):\n",
    "                response = SupportResponse(**json.loads(output))\n",
    "            else:\n",
    "                raise ValueError(\"Unsupported output format from agent.\")\n",
    "\n",
    "            # ✅ Print structured response\n",
    "            print(\"\\nAI Response:\")\n",
    "            print(f\"Category        : {response.category}\")\n",
    "            print(f\"Priority        : {response.priority}\")\n",
    "            print(f\"Escalate        : {'Yes' if response.escalate else 'No'}\")\n",
    "            print(f\"Suggested Reply : {response.suggested_response}\\n\")\n",
    "\n",
    "        except (ValidationError, ValueError, json.JSONDecodeError) as e:\n",
    "            print(\"\\n❌ Could not parse structured output from agent:\")\n",
    "            print(output)\n",
    "\n",
    "# Run this to launch chatbot\n",
    "await run_chatbot()"
   ]
  },
  {
   "cell_type": "code",
   "execution_count": 14,
   "id": "0174e73f-3fda-4c60-bd18-a0b3089c0a04",
   "metadata": {},
   "outputs": [
    {
     "name": "stdout",
     "output_type": "stream",
     "text": [
      "dish_name='Veggie Stir-fry with Quinoa' description=\"A quick and energizing dish that's loaded with colorful vegetables and protein-rich quinoa to boost your energy levels.\" ingredients=['1 cup quinoa', '2 cups water', '1 tablespoon olive oil', '2 cloves garlic, minced', '1-inch piece ginger, minced', '1 red bell pepper, sliced', '1 yellow bell pepper, sliced', '1 cup broccoli florets', '1 cup snap peas', '2 carrots, julienned', '2 tablespoons soy sauce', '1 tablespoon sesame oil', '1 tablespoon lime juice', 'Salt and pepper to taste', 'Fresh cilantro for garnish'] cooking_time_minutes=30\n"
     ]
    },
    {
     "name": "stderr",
     "output_type": "stream",
     "text": [
      "/tmp/ipykernel_820/997800736.py:49: DeprecationWarning: `result.data` is deprecated, use `result.output` instead.\n",
      "  print(result.data)\n"
     ]
    }
   ],
   "source": []
  },
  {
   "cell_type": "code",
   "execution_count": null,
   "id": "af10da38-9b53-4fcd-96c9-6f7671997064",
   "metadata": {},
   "outputs": [],
   "source": []
  }
 ],
 "metadata": {
  "kernelspec": {
   "display_name": "Python 3 (ipykernel)",
   "language": "python",
   "name": "python3"
  },
  "language_info": {
   "codemirror_mode": {
    "name": "ipython",
    "version": 3
   },
   "file_extension": ".py",
   "mimetype": "text/x-python",
   "name": "python",
   "nbconvert_exporter": "python",
   "pygments_lexer": "ipython3",
   "version": "3.12.8"
  }
 },
 "nbformat": 4,
 "nbformat_minor": 5
}
